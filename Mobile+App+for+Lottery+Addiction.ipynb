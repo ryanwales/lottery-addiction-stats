{
 "cells": [
  {
   "cell_type": "markdown",
   "metadata": {
    "collapsed": true
   },
   "source": [
    "# Mobile App for Lottery Addiction"
   ]
  },
  {
   "cell_type": "markdown",
   "metadata": {},
   "source": [
    "## Introduction"
   ]
  },
  {
   "cell_type": "markdown",
   "metadata": {},
   "source": [
    "This guided project demonstrates:\n",
    "* How to calculate theoretical and empirical probabilities\n",
    "* How to use probability rules to solve probability problems\n",
    "* How to use combinations and permutations\n"
   ]
  },
  {
   "cell_type": "markdown",
   "metadata": {},
   "source": [
    "The purpose of this project is to calculate the probabilities of winning different lotteries and informing gambling addicts of their low chances. These probabilities will be integrated into a new dedicated mobile app that helps lottery addicts better estimate their changes of winning."
   ]
  },
  {
   "cell_type": "markdown",
   "metadata": {},
   "source": [
    "We can answer questions like:\n",
    "* What is the probability of winning the big prize with a single ticket?\n",
    "* What is the probability of winning the big prize if we play 40 different tickets (or any other number)?\n",
    "* What is the probability of having at least five (or four, or three, or two)  winning numbers on a single ticket?"
   ]
  },
  {
   "cell_type": "markdown",
   "metadata": {},
   "source": [
    "The [dataset](https://www.kaggle.com/datascienceai/lottery-dataset) comes from a national 6/49 lottery game in Canada from 3,665 drawings, dating from 1981 to 2018. "
   ]
  },
  {
   "cell_type": "markdown",
   "metadata": {},
   "source": [
    "## Calculating factorials and combinations"
   ]
  },
  {
   "cell_type": "code",
   "execution_count": 42,
   "metadata": {
    "collapsed": false
   },
   "outputs": [],
   "source": [
    "def factorial(n):\n",
    "    product=1\n",
    "    for i in range(n,0,-1):\n",
    "        product*=i\n",
    "    return product\n",
    "\n",
    "def combinations(n,k):\n",
    "    numerator=factorial(n)\n",
    "    denominator=factorial(k) * factorial(n-k)\n",
    "    return numerator/denominator"
   ]
  },
  {
   "cell_type": "markdown",
   "metadata": {},
   "source": [
    "In the 6/49 game, 6 numbers are drawn from a set of 49 numbers that range from 1 to 49. A player must match all 6 numbers exactly to win.\n",
    "\n",
    "Let's calculate the probability of winning this big prize using a function."
   ]
  },
  {
   "cell_type": "code",
   "execution_count": 45,
   "metadata": {
    "collapsed": true
   },
   "outputs": [],
   "source": [
    "def one_ticket_probability(user_numbers):\n",
    "    tot_outcomes = combinations(49,6)\n",
    "    percentage = 1/tot_outcomes * 100\n",
    "    print('''The chance of you winning this lottery with the numbers {} is {:.7f}%. \n",
    "In other words, you have a 1 in {:,} chance of winning.'''.format(user_numbers,percentage,int(tot_outcomes)))"
   ]
  },
  {
   "cell_type": "code",
   "execution_count": 48,
   "metadata": {
    "collapsed": false
   },
   "outputs": [
    {
     "name": "stdout",
     "output_type": "stream",
     "text": [
      "The chance of you winning this lottery with the numbers [1, 2, 3, 4, 5, 6] is 0.0000072%. \n",
      "In other words, you have a 1 in 13,983,816 chance of winning.\n"
     ]
    }
   ],
   "source": [
    "#Let's test a few sets of numbers\n",
    "one_ticket_probability([1,2,3,4,5,6])"
   ]
  },
  {
   "cell_type": "code",
   "execution_count": 49,
   "metadata": {
    "collapsed": false
   },
   "outputs": [
    {
     "name": "stdout",
     "output_type": "stream",
     "text": [
      "The chance of you winning this lottery with the numbers [5, 13, 35, 36, 39, 68] is 0.0000072%. \n",
      "In other words, you have a 1 in 13,983,816 chance of winning.\n"
     ]
    }
   ],
   "source": [
    "one_ticket_probability([5,13,35,36,39,68])"
   ]
  },
  {
   "cell_type": "markdown",
   "metadata": {},
   "source": [
    "Unsuprisingly, the probability is the same no matter what the chosen numbers are. Users will be able to see that they have a 1 in roughly 14 million chance of winning the big prize. Not great odds!"
   ]
  },
  {
   "cell_type": "markdown",
   "metadata": {},
   "source": [
    "## Historical Lottery Data"
   ]
  },
  {
   "cell_type": "markdown",
   "metadata": {},
   "source": [
    "Now, let's create some functionality that allows users to compare their chosen numbers against historical lottery data in Canada and determine whether they would have ever won by now. "
   ]
  },
  {
   "cell_type": "code",
   "execution_count": 50,
   "metadata": {
    "collapsed": false
   },
   "outputs": [
    {
     "name": "stdout",
     "output_type": "stream",
     "text": [
      "<class 'pandas.core.frame.DataFrame'>\n",
      "RangeIndex: 3665 entries, 0 to 3664\n",
      "Data columns (total 11 columns):\n",
      "PRODUCT            3665 non-null int64\n",
      "DRAW NUMBER        3665 non-null int64\n",
      "SEQUENCE NUMBER    3665 non-null int64\n",
      "DRAW DATE          3665 non-null object\n",
      "NUMBER DRAWN 1     3665 non-null int64\n",
      "NUMBER DRAWN 2     3665 non-null int64\n",
      "NUMBER DRAWN 3     3665 non-null int64\n",
      "NUMBER DRAWN 4     3665 non-null int64\n",
      "NUMBER DRAWN 5     3665 non-null int64\n",
      "NUMBER DRAWN 6     3665 non-null int64\n",
      "BONUS NUMBER       3665 non-null int64\n",
      "dtypes: int64(10), object(1)\n",
      "memory usage: 315.0+ KB\n"
     ]
    }
   ],
   "source": [
    "import pandas as pd\n",
    "lotto = pd.read_csv('649.csv')\n",
    "lotto.info()"
   ]
  },
  {
   "cell_type": "code",
   "execution_count": 53,
   "metadata": {
    "collapsed": false
   },
   "outputs": [
    {
     "data": {
      "text/html": [
       "<div>\n",
       "<style scoped>\n",
       "    .dataframe tbody tr th:only-of-type {\n",
       "        vertical-align: middle;\n",
       "    }\n",
       "\n",
       "    .dataframe tbody tr th {\n",
       "        vertical-align: top;\n",
       "    }\n",
       "\n",
       "    .dataframe thead th {\n",
       "        text-align: right;\n",
       "    }\n",
       "</style>\n",
       "<table border=\"1\" class=\"dataframe\">\n",
       "  <thead>\n",
       "    <tr style=\"text-align: right;\">\n",
       "      <th></th>\n",
       "      <th>PRODUCT</th>\n",
       "      <th>DRAW NUMBER</th>\n",
       "      <th>SEQUENCE NUMBER</th>\n",
       "      <th>DRAW DATE</th>\n",
       "      <th>NUMBER DRAWN 1</th>\n",
       "      <th>NUMBER DRAWN 2</th>\n",
       "      <th>NUMBER DRAWN 3</th>\n",
       "      <th>NUMBER DRAWN 4</th>\n",
       "      <th>NUMBER DRAWN 5</th>\n",
       "      <th>NUMBER DRAWN 6</th>\n",
       "      <th>BONUS NUMBER</th>\n",
       "    </tr>\n",
       "  </thead>\n",
       "  <tbody>\n",
       "    <tr>\n",
       "      <th>0</th>\n",
       "      <td>649</td>\n",
       "      <td>1</td>\n",
       "      <td>0</td>\n",
       "      <td>6/12/1982</td>\n",
       "      <td>3</td>\n",
       "      <td>11</td>\n",
       "      <td>12</td>\n",
       "      <td>14</td>\n",
       "      <td>41</td>\n",
       "      <td>43</td>\n",
       "      <td>13</td>\n",
       "    </tr>\n",
       "    <tr>\n",
       "      <th>1</th>\n",
       "      <td>649</td>\n",
       "      <td>2</td>\n",
       "      <td>0</td>\n",
       "      <td>6/19/1982</td>\n",
       "      <td>8</td>\n",
       "      <td>33</td>\n",
       "      <td>36</td>\n",
       "      <td>37</td>\n",
       "      <td>39</td>\n",
       "      <td>41</td>\n",
       "      <td>9</td>\n",
       "    </tr>\n",
       "    <tr>\n",
       "      <th>2</th>\n",
       "      <td>649</td>\n",
       "      <td>3</td>\n",
       "      <td>0</td>\n",
       "      <td>6/26/1982</td>\n",
       "      <td>1</td>\n",
       "      <td>6</td>\n",
       "      <td>23</td>\n",
       "      <td>24</td>\n",
       "      <td>27</td>\n",
       "      <td>39</td>\n",
       "      <td>34</td>\n",
       "    </tr>\n",
       "  </tbody>\n",
       "</table>\n",
       "</div>"
      ],
      "text/plain": [
       "   PRODUCT  DRAW NUMBER  SEQUENCE NUMBER  DRAW DATE  NUMBER DRAWN 1  \\\n",
       "0      649            1                0  6/12/1982               3   \n",
       "1      649            2                0  6/19/1982               8   \n",
       "2      649            3                0  6/26/1982               1   \n",
       "\n",
       "   NUMBER DRAWN 2  NUMBER DRAWN 3  NUMBER DRAWN 4  NUMBER DRAWN 5  \\\n",
       "0              11              12              14              41   \n",
       "1              33              36              37              39   \n",
       "2               6              23              24              27   \n",
       "\n",
       "   NUMBER DRAWN 6  BONUS NUMBER  \n",
       "0              43            13  \n",
       "1              41             9  \n",
       "2              39            34  "
      ]
     },
     "execution_count": 53,
     "metadata": {},
     "output_type": "execute_result"
    }
   ],
   "source": [
    "lotto.head(3)"
   ]
  },
  {
   "cell_type": "code",
   "execution_count": 54,
   "metadata": {
    "collapsed": false
   },
   "outputs": [
    {
     "data": {
      "text/html": [
       "<div>\n",
       "<style scoped>\n",
       "    .dataframe tbody tr th:only-of-type {\n",
       "        vertical-align: middle;\n",
       "    }\n",
       "\n",
       "    .dataframe tbody tr th {\n",
       "        vertical-align: top;\n",
       "    }\n",
       "\n",
       "    .dataframe thead th {\n",
       "        text-align: right;\n",
       "    }\n",
       "</style>\n",
       "<table border=\"1\" class=\"dataframe\">\n",
       "  <thead>\n",
       "    <tr style=\"text-align: right;\">\n",
       "      <th></th>\n",
       "      <th>PRODUCT</th>\n",
       "      <th>DRAW NUMBER</th>\n",
       "      <th>SEQUENCE NUMBER</th>\n",
       "      <th>DRAW DATE</th>\n",
       "      <th>NUMBER DRAWN 1</th>\n",
       "      <th>NUMBER DRAWN 2</th>\n",
       "      <th>NUMBER DRAWN 3</th>\n",
       "      <th>NUMBER DRAWN 4</th>\n",
       "      <th>NUMBER DRAWN 5</th>\n",
       "      <th>NUMBER DRAWN 6</th>\n",
       "      <th>BONUS NUMBER</th>\n",
       "    </tr>\n",
       "  </thead>\n",
       "  <tbody>\n",
       "    <tr>\n",
       "      <th>3662</th>\n",
       "      <td>649</td>\n",
       "      <td>3589</td>\n",
       "      <td>0</td>\n",
       "      <td>6/13/2018</td>\n",
       "      <td>6</td>\n",
       "      <td>22</td>\n",
       "      <td>24</td>\n",
       "      <td>31</td>\n",
       "      <td>32</td>\n",
       "      <td>34</td>\n",
       "      <td>16</td>\n",
       "    </tr>\n",
       "    <tr>\n",
       "      <th>3663</th>\n",
       "      <td>649</td>\n",
       "      <td>3590</td>\n",
       "      <td>0</td>\n",
       "      <td>6/16/2018</td>\n",
       "      <td>2</td>\n",
       "      <td>15</td>\n",
       "      <td>21</td>\n",
       "      <td>31</td>\n",
       "      <td>38</td>\n",
       "      <td>49</td>\n",
       "      <td>8</td>\n",
       "    </tr>\n",
       "    <tr>\n",
       "      <th>3664</th>\n",
       "      <td>649</td>\n",
       "      <td>3591</td>\n",
       "      <td>0</td>\n",
       "      <td>6/20/2018</td>\n",
       "      <td>14</td>\n",
       "      <td>24</td>\n",
       "      <td>31</td>\n",
       "      <td>35</td>\n",
       "      <td>37</td>\n",
       "      <td>48</td>\n",
       "      <td>17</td>\n",
       "    </tr>\n",
       "  </tbody>\n",
       "</table>\n",
       "</div>"
      ],
      "text/plain": [
       "      PRODUCT  DRAW NUMBER  SEQUENCE NUMBER  DRAW DATE  NUMBER DRAWN 1  \\\n",
       "3662      649         3589                0  6/13/2018               6   \n",
       "3663      649         3590                0  6/16/2018               2   \n",
       "3664      649         3591                0  6/20/2018              14   \n",
       "\n",
       "      NUMBER DRAWN 2  NUMBER DRAWN 3  NUMBER DRAWN 4  NUMBER DRAWN 5  \\\n",
       "3662              22              24              31              32   \n",
       "3663              15              21              31              38   \n",
       "3664              24              31              35              37   \n",
       "\n",
       "      NUMBER DRAWN 6  BONUS NUMBER  \n",
       "3662              34            16  \n",
       "3663              49             8  \n",
       "3664              48            17  "
      ]
     },
     "execution_count": 54,
     "metadata": {},
     "output_type": "execute_result"
    }
   ],
   "source": [
    "lotto.tail(3)"
   ]
  },
  {
   "cell_type": "markdown",
   "metadata": {},
   "source": [
    "We've been instructed to write a function that prints the number of times the combination selected occurred in the Canada dataset and the probability of winning the big prize in the drawing with that combination."
   ]
  },
  {
   "cell_type": "code",
   "execution_count": 61,
   "metadata": {
    "collapsed": false
   },
   "outputs": [
    {
     "data": {
      "text/plain": [
       "0    {3, 41, 11, 12, 43, 14}\n",
       "1    {33, 36, 37, 39, 8, 41}\n",
       "2     {1, 6, 39, 23, 24, 27}\n",
       "3     {3, 9, 10, 43, 13, 20}\n",
       "4    {34, 5, 14, 47, 21, 31}\n",
       "dtype: object"
      ]
     },
     "execution_count": 61,
     "metadata": {},
     "output_type": "execute_result"
    }
   ],
   "source": [
    "# First write a function to extract the winning numbers from the dataset\n",
    "def extract_numbers(row):\n",
    "    row=row[4:10]\n",
    "    numbers=set(row.values)\n",
    "    return numbers\n",
    "\n",
    "winning_numbers=lotto.apply(extract_numbers,axis=1)\n",
    "winning_numbers.head()"
   ]
  },
  {
   "cell_type": "code",
   "execution_count": 78,
   "metadata": {
    "collapsed": true
   },
   "outputs": [],
   "source": [
    "# Next, write a function that compares a set of chosen numbers\n",
    "# to the set of historical winning numbers\n",
    "def check_historical_occurence(list, series):\n",
    "    chosen_numbers=set(list)\n",
    "    check_match = chosen_numbers==winning_numbers\n",
    "    n_wins=sum(check_match)\n",
    "    print('''The number of times that the numbers {} has won the lottery is {}.\n",
    "The probability of winning the big prize with that combination is 1 in 13,983,816.'''.format(list,n_wins))"
   ]
  },
  {
   "cell_type": "code",
   "execution_count": 79,
   "metadata": {
    "collapsed": false
   },
   "outputs": [
    {
     "name": "stdout",
     "output_type": "stream",
     "text": [
      "The number of times that the numbers [33, 36, 37, 39, 8, 41] has won the lottery is 1.\n",
      "The probability of winning the big prize with that combination is 1 in 13,983,816.\n"
     ]
    }
   ],
   "source": [
    "# Let's test it\n",
    "check_historical_occurence([33, 36, 37, 39, 8, 41],winning_numbers)"
   ]
  },
  {
   "cell_type": "markdown",
   "metadata": {},
   "source": [
    "We can hard code the chances of winning the big prize with any given set of numbers because it's always the same."
   ]
  },
  {
   "cell_type": "markdown",
   "metadata": {},
   "source": [
    "### What about multiple tickets?\n",
    "Lottery players usually play more than one ticket on a single drawing, thinking that this will drastically increase their odds.\n",
    "\n",
    "We will now make a function that calculates the probability of winning the big prize given the *number* of tickets played."
   ]
  },
  {
   "cell_type": "code",
   "execution_count": 108,
   "metadata": {
    "collapsed": true
   },
   "outputs": [],
   "source": [
    "def multi_ticket_probability(n_tickets):\n",
    "    odds = n_tickets / combinations(49,6)\n",
    "    percentage = odds * 100\n",
    "    multi_ticket_odds = round(combinations(49,6)/n_tickets)\n",
    "    print('''If you buy {} tickets, you will have a {:.7f}% chance of winning the big prize. \\n\n",
    "In other words, your odds to win are 1 in {:,}.'''\n",
    ".format(n_tickets,percentage,int(multi_ticket_odds)))"
   ]
  },
  {
   "cell_type": "code",
   "execution_count": 109,
   "metadata": {
    "collapsed": false,
    "scrolled": true
   },
   "outputs": [
    {
     "name": "stdout",
     "output_type": "stream",
     "text": [
      "If you buy 1 tickets, you will have a 0.0000072% chance of winning the big prize. \n",
      "\n",
      "In other words, your odds to win are 1 in 13,983,816.\n"
     ]
    }
   ],
   "source": [
    "multi_ticket_probability(1)"
   ]
  },
  {
   "cell_type": "code",
   "execution_count": 110,
   "metadata": {
    "collapsed": false,
    "scrolled": true
   },
   "outputs": [
    {
     "name": "stdout",
     "output_type": "stream",
     "text": [
      "If you buy 10 tickets, you will have a 0.0000715% chance of winning the big prize. \n",
      "\n",
      "In other words, your odds to win are 1 in 1,398,382.\n"
     ]
    }
   ],
   "source": [
    "multi_ticket_probability(10)"
   ]
  },
  {
   "cell_type": "code",
   "execution_count": 111,
   "metadata": {
    "collapsed": false,
    "scrolled": true
   },
   "outputs": [
    {
     "name": "stdout",
     "output_type": "stream",
     "text": [
      "If you buy 100 tickets, you will have a 0.0007151% chance of winning the big prize. \n",
      "\n",
      "In other words, your odds to win are 1 in 139,838.\n"
     ]
    }
   ],
   "source": [
    "multi_ticket_probability(100)"
   ]
  },
  {
   "cell_type": "code",
   "execution_count": 114,
   "metadata": {
    "collapsed": false,
    "scrolled": true
   },
   "outputs": [
    {
     "name": "stdout",
     "output_type": "stream",
     "text": [
      "If you buy 10000 tickets, you will have a 0.0715112% chance of winning the big prize. \n",
      "\n",
      "In other words, your odds to win are 1 in 1,398.\n"
     ]
    }
   ],
   "source": [
    "multi_ticket_probability(10000)"
   ]
  },
  {
   "cell_type": "code",
   "execution_count": 115,
   "metadata": {
    "collapsed": false,
    "scrolled": true
   },
   "outputs": [
    {
     "name": "stdout",
     "output_type": "stream",
     "text": [
      "If you buy 1000000 tickets, you will have a 7.1511238% chance of winning the big prize. \n",
      "\n",
      "In other words, your odds to win are 1 in 14.\n"
     ]
    }
   ],
   "source": [
    "multi_ticket_probability(1000000)"
   ]
  },
  {
   "cell_type": "code",
   "execution_count": 116,
   "metadata": {
    "collapsed": false,
    "scrolled": true
   },
   "outputs": [
    {
     "name": "stdout",
     "output_type": "stream",
     "text": [
      "If you buy 6991908 tickets, you will have a 50.0000000% chance of winning the big prize. \n",
      "\n",
      "In other words, your odds to win are 1 in 2.\n"
     ]
    }
   ],
   "source": [
    "multi_ticket_probability(6991908)"
   ]
  },
  {
   "cell_type": "code",
   "execution_count": 117,
   "metadata": {
    "collapsed": false
   },
   "outputs": [
    {
     "name": "stdout",
     "output_type": "stream",
     "text": [
      "If you buy 13983816 tickets, you will have a 100.0000000% chance of winning the big prize. \n",
      "\n",
      "In other words, your odds to win are 1 in 1.\n"
     ]
    }
   ],
   "source": [
    "multi_ticket_probability(13983816)"
   ]
  },
  {
   "cell_type": "markdown",
   "metadata": {},
   "source": [
    "Even buying 10,000 tickets gives you less than 10% chance at winning.\n",
    "\n",
    "Buying 6,991,908 tickets gives you a 50% chance to win.\n",
    "You would need to buy 13,983,816 tickets to guarantee a win!"
   ]
  },
  {
   "cell_type": "markdown",
   "metadata": {},
   "source": [
    "## Less winning numbers?"
   ]
  },
  {
   "cell_type": "markdown",
   "metadata": {},
   "source": [
    "In most lotteries, there are smaller prizes if a player's ticket matches 2, 3, 4, or 5 of the 6 numbers drawn.\n",
    "Let's look and see if there are numbers that are chosen less often, historically."
   ]
  },
  {
   "cell_type": "markdown",
   "metadata": {},
   "source": [
    "Here we're going to write a function that allows the user to calculate probabilities for 2, 3, 4, or 5 winning numbers.\n",
    "\n",
    "In this function, the user will input \n",
    "* a list of 6 numbers, and\n",
    "* a number between 2 and 5 that represents the number of winning numbers expected\n",
    "\n",
    "Note that this is addressing the probability of having *exactly* five winning numbers, not the probability of having *at least* five winning numbers."
   ]
  },
  {
   "cell_type": "code",
   "execution_count": 125,
   "metadata": {
    "collapsed": true
   },
   "outputs": [],
   "source": [
    "def probability_less_6(n_matching_numbers):\n",
    "    n_combinations_ticket = combinations(6, n_matching_numbers)\n",
    "    n_combinations_remaining = combinations(43, 6 - n_matching_numbers)\n",
    "    success_outcomes = n_combinations_ticket * n_combinations_remaining\n",
    "    \n",
    "    total_outcomes = combinations(49,6)\n",
    "    probability = success_outcomes / total_outcomes\n",
    "    prob_percent = probability * 100\n",
    "    \n",
    "    print('''The probability of matching {} numbers is {:.5}%.'''.format(n_matching_numbers,prob_percent))"
   ]
  },
  {
   "cell_type": "code",
   "execution_count": 126,
   "metadata": {
    "collapsed": false
   },
   "outputs": [
    {
     "name": "stdout",
     "output_type": "stream",
     "text": [
      "The probability of matching 2 numbers is 13.238%.\n"
     ]
    }
   ],
   "source": [
    "# Test this function on 2-5\n",
    "probability_less_6(2)"
   ]
  },
  {
   "cell_type": "code",
   "execution_count": 127,
   "metadata": {
    "collapsed": false
   },
   "outputs": [
    {
     "name": "stdout",
     "output_type": "stream",
     "text": [
      "The probability of matching 3 numbers is 1.765%.\n"
     ]
    }
   ],
   "source": [
    "probability_less_6(3)"
   ]
  },
  {
   "cell_type": "code",
   "execution_count": 128,
   "metadata": {
    "collapsed": false
   },
   "outputs": [
    {
     "name": "stdout",
     "output_type": "stream",
     "text": [
      "The probability of matching 4 numbers is 0.096862%.\n"
     ]
    }
   ],
   "source": [
    "probability_less_6(4)"
   ]
  },
  {
   "cell_type": "code",
   "execution_count": 129,
   "metadata": {
    "collapsed": false
   },
   "outputs": [
    {
     "name": "stdout",
     "output_type": "stream",
     "text": [
      "The probability of matching 5 numbers is 0.001845%.\n"
     ]
    }
   ],
   "source": [
    "probability_less_6(5)"
   ]
  },
  {
   "cell_type": "markdown",
   "metadata": {},
   "source": [
    "### Conclusions"
   ]
  },
  {
   "cell_type": "markdown",
   "metadata": {},
   "source": [
    "That's the end of this guided project! Hopefully the probabilities showcased in this project can inform lottery players of their rather poor odds when playing."
   ]
  },
  {
   "cell_type": "code",
   "execution_count": null,
   "metadata": {
    "collapsed": true
   },
   "outputs": [],
   "source": []
  }
 ],
 "metadata": {
  "kernelspec": {
   "display_name": "Python 3",
   "language": "python",
   "name": "python3"
  },
  "language_info": {
   "codemirror_mode": {
    "name": "ipython",
    "version": 3
   },
   "file_extension": ".py",
   "mimetype": "text/x-python",
   "name": "python",
   "nbconvert_exporter": "python",
   "pygments_lexer": "ipython3",
   "version": "3.4.3"
  }
 },
 "nbformat": 4,
 "nbformat_minor": 2
}
